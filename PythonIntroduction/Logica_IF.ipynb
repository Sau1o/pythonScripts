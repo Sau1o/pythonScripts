{
 "cells": [
  {
   "cell_type": "code",
   "execution_count": null,
   "metadata": {},
   "outputs": [],
   "source": [
    "temp = eval(input('Digite a temperatura: ')) #usuário fornece a temperatura\n",
    "\n",
    "if temp>36:   #bloco if, se a temperatura digitada for maior que 36, execute o bloco indentado\n",
    "    print('Esta muito quente!!!!') #essa linha esta indentada  "
   ]
  },
  {
   "cell_type": "code",
   "execution_count": null,
   "metadata": {},
   "outputs": [],
   "source": [
    "temp = eval(input('Digite a temperatura: ')) #usuário fornece a temperatura\n",
    "\n",
    "if temp>36:   #bloco if, se a temperatura digitada for maior que 36, execute o bloco indentado\n",
    "    print('Esta muito quente!!!!') #essa linha esta indentada\n",
    "else:    #caso a temp digitada seja menor ou até igual a 36 a linha sera executada\n",
    "    print('Não está tão quente!!!') #bloco else, note que ele tb esta indentado"
   ]
  },
  {
   "cell_type": "code",
   "execution_count": 7,
   "metadata": {},
   "outputs": [
    {
     "name": "stdout",
     "output_type": "stream",
     "text": [
      "P1= 8.5\n",
      "P2= 2.7\n",
      "quiz= 8.7\n",
      "outros= 0\n"
     ]
    }
   ],
   "source": [
    "p1=eval(input('P1= '))\n",
    "p2=eval(input('P2= '))\n",
    "quiz=eval(input('quiz= '))\n",
    "outros=eval(input('outros= '))"
   ]
  },
  {
   "cell_type": "code",
   "execution_count": 8,
   "metadata": {},
   "outputs": [],
   "source": [
    "media = (p1+p2)*0.3+(quiz+outros)*0.2    #[(p1 + p2) / 2] * 0.6 + quiz * 0.2 + outros*0.2"
   ]
  },
  {
   "cell_type": "code",
   "execution_count": 9,
   "metadata": {},
   "outputs": [
    {
     "name": "stdout",
     "output_type": "stream",
     "text": [
      "Aluno reprovado com a média:  5.1\n"
     ]
    }
   ],
   "source": [
    "if media >= 7:\n",
    "    print('Aluno aprovado com a média: ',media)\n",
    "else:\n",
    "    print('Aluno reprovado com a média: ',media)"
   ]
  },
  {
   "cell_type": "code",
   "execution_count": null,
   "metadata": {},
   "outputs": [],
   "source": []
  }
 ],
 "metadata": {
  "kernelspec": {
   "display_name": "Python 3",
   "language": "python",
   "name": "python3"
  },
  "language_info": {
   "codemirror_mode": {
    "name": "ipython",
    "version": 3
   },
   "file_extension": ".py",
   "mimetype": "text/x-python",
   "name": "python",
   "nbconvert_exporter": "python",
   "pygments_lexer": "ipython3",
   "version": "3.7.7"
  }
 },
 "nbformat": 4,
 "nbformat_minor": 4
}
