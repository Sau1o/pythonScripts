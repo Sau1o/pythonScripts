{
 "cells": [
  {
   "cell_type": "code",
   "execution_count": 5,
   "metadata": {},
   "outputs": [
    {
     "name": "stdout",
     "output_type": "stream",
     "text": [
      "- +\n",
      "+ --\n",
      "+--+--\n"
     ]
    }
   ],
   "source": [
    "a,b='-','+'\n",
    "print(a,b)\n",
    "print(b,2*a)\n",
    "print(2*'+--')"
   ]
  },
  {
   "cell_type": "code",
   "execution_count": 10,
   "metadata": {},
   "outputs": [
    {
     "name": "stdout",
     "output_type": "stream",
     "text": [
      "False\n",
      "False\n",
      "False\n",
      "False\n"
     ]
    }
   ],
   "source": [
    "s= \"Goodbye\"\n",
    "print(s[0]=='g')\n",
    "print(s[6]=='g')\n",
    "print(s[0]=='g'and s[1]==a)\n",
    "print(s[-2]=='x')"
   ]
  },
  {
   "cell_type": "code",
   "execution_count": 11,
   "metadata": {},
   "outputs": [],
   "source": [
    "a,b=6,7\n",
    "c=(a+b)/2\n",
    "estoque= ['papel','grampos','lápis']\n",
    "primeiro,meio,ultimo='primeiro','meio','ultimo'\n",
    "nomeCompleto=primeiro+''+meio+'ultimo'"
   ]
  },
  {
   "cell_type": "code",
   "execution_count": 13,
   "metadata": {},
   "outputs": [
    {
     "name": "stdout",
     "output_type": "stream",
     "text": [
      "True\n",
      "False\n",
      "False\n",
      "True\n"
     ]
    }
   ],
   "source": [
    "print(16-9<10)\n",
    "print(len(estoque)>5*len(nomeCompleto))\n",
    "print(c>24)\n",
    "print(6.75>a and 6.75<b)"
   ]
  },
  {
   "cell_type": "code",
   "execution_count": 14,
   "metadata": {},
   "outputs": [
    {
     "data": {
      "text/plain": [
       "False"
      ]
     },
     "execution_count": 14,
     "metadata": {},
     "output_type": "execute_result"
    }
   ],
   "source": [
    "flores=['rosa','buganvília','iúca','margarida','dália','lírio dos vales']\n",
    "'batata' in flores"
   ]
  },
  {
   "cell_type": "code",
   "execution_count": 16,
   "metadata": {},
   "outputs": [
    {
     "name": "stdout",
     "output_type": "stream",
     "text": [
      "voce perdeu\n"
     ]
    }
   ],
   "source": [
    "golpes = 15;\n",
    "defesas = 0\n",
    "if golpes>10 and defesas == 0:\n",
    "    print('voce perdeu')"
   ]
  },
  {
   "cell_type": "code",
   "execution_count": 18,
   "metadata": {},
   "outputs": [
    {
     "name": "stdout",
     "output_type": "stream",
     "text": [
      "Digite seu login: teste\n",
      "Não autorizado\n",
      "Fim\n"
     ]
    }
   ],
   "source": [
    "login= input('Digite seu login: ')\n",
    "lista=['joe','sue','hani','sophie']\n",
    "if login in lista:\n",
    "    print('Nome na lista')\n",
    "else:\n",
    "    print('Não autorizado')\n",
    "print('Fim')"
   ]
  },
  {
   "cell_type": "code",
   "execution_count": 19,
   "metadata": {},
   "outputs": [
    {
     "name": "stdout",
     "output_type": "stream",
     "text": [
      "0\n",
      "3\n",
      "6\n",
      "9\n",
      "12\n",
      "15\n",
      "18\n",
      "21\n"
     ]
    }
   ],
   "source": [
    "for i in range(0,24,3):\n",
    "    print(i)"
   ]
  },
  {
   "cell_type": "code",
   "execution_count": 21,
   "metadata": {},
   "outputs": [
    {
     "name": "stdout",
     "output_type": "stream",
     "text": [
      "7\n"
     ]
    },
    {
     "ename": "NameError",
     "evalue": "name 'hello' is not defined",
     "output_type": "error",
     "traceback": [
      "\u001b[0;31m---------------------------------------------------------------------------\u001b[0m",
      "\u001b[0;31mNameError\u001b[0m                                 Traceback (most recent call last)",
      "\u001b[0;32m<ipython-input-21-43ba550e691c>\u001b[0m in \u001b[0;36m<module>\u001b[0;34m\u001b[0m\n\u001b[1;32m      1\u001b[0m \u001b[0mprint\u001b[0m\u001b[0;34m(\u001b[0m\u001b[0meval\u001b[0m\u001b[0;34m(\u001b[0m\u001b[0;34m'2*3+1'\u001b[0m\u001b[0;34m)\u001b[0m\u001b[0;34m)\u001b[0m\u001b[0;34m\u001b[0m\u001b[0;34m\u001b[0m\u001b[0m\n\u001b[0;32m----> 2\u001b[0;31m \u001b[0mprint\u001b[0m\u001b[0;34m(\u001b[0m\u001b[0meval\u001b[0m\u001b[0;34m(\u001b[0m\u001b[0;34m'hello'\u001b[0m\u001b[0;34m)\u001b[0m\u001b[0;34m)\u001b[0m\u001b[0;34m\u001b[0m\u001b[0;34m\u001b[0m\u001b[0m\n\u001b[0m",
      "\u001b[0;32m<string>\u001b[0m in \u001b[0;36m<module>\u001b[0;34m\u001b[0m\n",
      "\u001b[0;31mNameError\u001b[0m: name 'hello' is not defined"
     ]
    }
   ],
   "source": [
    "print(eval('2*3+1'))\n",
    "print(eval('hello'))"
   ]
  },
  {
   "cell_type": "code",
   "execution_count": 23,
   "metadata": {},
   "outputs": [
    {
     "name": "stdout",
     "output_type": "stream",
     "text": [
      "ok a\n",
      "ok d\n"
     ]
    }
   ],
   "source": [
    "a,b,c=3,4,5\n",
    "if a<b:\n",
    "    print('ok a')\n",
    "if c<b:\n",
    "    print('ok b')\n",
    "if a+b==c:\n",
    "    print('ok c')\n",
    "if a**2+b**2==c**2:\n",
    "    print('ok d')"
   ]
  },
  {
   "cell_type": "code",
   "execution_count": 36,
   "metadata": {},
   "outputs": [
    {
     "name": "stdout",
     "output_type": "stream",
     "text": [
      "jan\n",
      "fev\n",
      "mar\n"
     ]
    }
   ],
   "source": [
    "lista=['janeiro','fevereiro','março']\n",
    "for i in lista:\n",
    "    print(i[0:3])\n"
   ]
  },
  {
   "cell_type": "code",
   "execution_count": 38,
   "metadata": {},
   "outputs": [
    {
     "name": "stdout",
     "output_type": "stream",
     "text": [
      "0\n",
      "1\n",
      "-----\n",
      "0\n",
      "-----\n",
      "3\n",
      "4\n",
      "5\n",
      "6\n",
      "-----\n",
      "1\n"
     ]
    }
   ],
   "source": [
    "for i in range(0,2):\n",
    "    print(i)\n",
    "print(5*'-')\n",
    "for i in range(0,1):\n",
    "    print(i)\n",
    "print(5*'-')\n",
    "for i in range(3,7):\n",
    "    print(i)\n",
    "print(5*'-')\n",
    "for i in range(1,2):\n",
    "    print(i)"
   ]
  },
  {
   "cell_type": "code",
   "execution_count": null,
   "metadata": {},
   "outputs": [],
   "source": []
  }
 ],
 "metadata": {
  "kernelspec": {
   "display_name": "Python 3",
   "language": "python",
   "name": "python3"
  },
  "language_info": {
   "codemirror_mode": {
    "name": "ipython",
    "version": 3
   },
   "file_extension": ".py",
   "mimetype": "text/x-python",
   "name": "python",
   "nbconvert_exporter": "python",
   "pygments_lexer": "ipython3",
   "version": "3.7.7"
  }
 },
 "nbformat": 4,
 "nbformat_minor": 4
}
