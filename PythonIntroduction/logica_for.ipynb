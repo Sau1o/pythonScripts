{
 "cells": [
  {
   "cell_type": "code",
   "execution_count": 1,
   "metadata": {},
   "outputs": [
    {
     "name": "stdout",
     "output_type": "stream",
     "text": [
      "T\n",
      "e\n",
      "s\n",
      "t\n",
      "e\n",
      "Fim do programa\n"
     ]
    }
   ],
   "source": [
    "for c in 'Teste':\n",
    "    print(c)\n",
    "print('Fim do programa')"
   ]
  },
  {
   "cell_type": "code",
   "execution_count": 8,
   "metadata": {},
   "outputs": [
    {
     "name": "stdout",
     "output_type": "stream",
     "text": [
      "casa\n",
      "carro\n",
      "teste\n",
      "2.5\n",
      "7\n",
      "Fim da lista\n"
     ]
    }
   ],
   "source": [
    "lista = ['casa','carro','rua']\n",
    "for i in lista:\n",
    "    print(i)\n",
    "print('Fim da lista')"
   ]
  },
  {
   "cell_type": "code",
   "execution_count": 13,
   "metadata": {},
   "outputs": [
    {
     "name": "stdout",
     "output_type": "stream",
     "text": [
      "0\n",
      "7\n",
      "14\n",
      "21\n"
     ]
    }
   ],
   "source": [
    "for elemento in [0,1,2,3]: \n",
    "    r=elemento*7\n",
    "    print(r)"
   ]
  },
  {
   "cell_type": "code",
   "execution_count": 14,
   "metadata": {},
   "outputs": [
    {
     "name": "stdout",
     "output_type": "stream",
     "text": [
      "0\n",
      "2\n",
      "4\n",
      "6\n",
      "8\n"
     ]
    }
   ],
   "source": [
    "for x in range(0,10,2): #start, stop, step\n",
    "    print(x) #0,2,4,6,8 o 10 não entra na sequencia"
   ]
  },
  {
   "cell_type": "code",
   "execution_count": 16,
   "metadata": {},
   "outputs": [
    {
     "name": "stdout",
     "output_type": "stream",
     "text": [
      "90\n",
      "72\n",
      "54\n",
      "36\n",
      "18\n",
      "0\n",
      "-18\n",
      "-36\n",
      "-54\n",
      "-72\n"
     ]
    }
   ],
   "source": [
    "for x in range(10,-10,-2): #10,8,6,4,2,0,-2,-4,-6,-8  o -10 não entra na sequencia\n",
    "    print(x*9)"
   ]
  },
  {
   "cell_type": "code",
   "execution_count": null,
   "metadata": {},
   "outputs": [],
   "source": []
  }
 ],
 "metadata": {
  "kernelspec": {
   "display_name": "Python 3",
   "language": "python",
   "name": "python3"
  },
  "language_info": {
   "codemirror_mode": {
    "name": "ipython",
    "version": 3
   },
   "file_extension": ".py",
   "mimetype": "text/x-python",
   "name": "python",
   "nbconvert_exporter": "python",
   "pygments_lexer": "ipython3",
   "version": "3.7.7"
  }
 },
 "nbformat": 4,
 "nbformat_minor": 2
}
