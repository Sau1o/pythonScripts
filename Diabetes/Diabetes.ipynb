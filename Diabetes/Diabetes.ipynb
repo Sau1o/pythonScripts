{
 "cells": [
  {
   "cell_type": "code",
   "execution_count": 4,
   "id": "50fa955a",
   "metadata": {},
   "outputs": [
    {
     "name": "stdout",
     "output_type": "stream",
     "text": [
      "Collecting plotnine\n",
      "  Downloading plotnine-0.10.1-py3-none-any.whl (1.2 MB)\n",
      "\u001b[K     |████████████████████████████████| 1.2 MB 2.2 MB/s eta 0:00:01\n",
      "\u001b[?25hCollecting matplotlib>=3.5.0\n",
      "  Downloading matplotlib-3.6.0-cp38-cp38-manylinux_2_12_x86_64.manylinux2010_x86_64.whl (9.4 MB)\n",
      "\u001b[K     |████████████████████████████████| 9.4 MB 8.4 MB/s eta 0:00:01\n",
      "\u001b[?25hRequirement already satisfied: patsy>=0.5.1 in /home/saulo/anaconda3/lib/python3.8/site-packages (from plotnine) (0.5.1)\n",
      "Requirement already satisfied: numpy>=1.19.0 in /home/saulo/anaconda3/lib/python3.8/site-packages (from plotnine) (1.20.1)\n",
      "Collecting statsmodels>=0.13.2\n",
      "  Downloading statsmodels-0.13.2-cp38-cp38-manylinux_2_17_x86_64.manylinux2014_x86_64.whl (9.9 MB)\n",
      "\u001b[K     |████████████████████████████████| 9.9 MB 21.7 MB/s eta 0:00:01\n",
      "\u001b[?25hCollecting mizani>=0.8.1\n",
      "  Downloading mizani-0.8.1-py3-none-any.whl (64 kB)\n",
      "\u001b[K     |████████████████████████████████| 64 kB 3.9 MB/s  eta 0:00:01\n",
      "\u001b[?25hRequirement already satisfied: scipy>=1.5.0 in /home/saulo/anaconda3/lib/python3.8/site-packages (from plotnine) (1.6.2)\n",
      "Collecting pandas>=1.3.5\n",
      "  Downloading pandas-1.5.0-cp38-cp38-manylinux_2_17_x86_64.manylinux2014_x86_64.whl (12.2 MB)\n",
      "\u001b[K     |████████████████████████████████| 12.2 MB 25.9 MB/s eta 0:00:01    |██████████████▉                 | 5.6 MB 25.9 MB/s eta 0:00:01\n",
      "\u001b[?25hRequirement already satisfied: cycler>=0.10 in /home/saulo/anaconda3/lib/python3.8/site-packages (from matplotlib>=3.5.0->plotnine) (0.10.0)\n",
      "Requirement already satisfied: packaging>=20.0 in /home/saulo/anaconda3/lib/python3.8/site-packages (from matplotlib>=3.5.0->plotnine) (20.9)\n",
      "Requirement already satisfied: python-dateutil>=2.7 in /home/saulo/anaconda3/lib/python3.8/site-packages (from matplotlib>=3.5.0->plotnine) (2.8.1)\n",
      "Collecting fonttools>=4.22.0\n",
      "  Downloading fonttools-4.37.4-py3-none-any.whl (960 kB)\n",
      "\u001b[K     |████████████████████████████████| 960 kB 76.6 MB/s eta 0:00:01\n",
      "\u001b[?25hRequirement already satisfied: pyparsing>=2.2.1 in /home/saulo/anaconda3/lib/python3.8/site-packages (from matplotlib>=3.5.0->plotnine) (2.4.7)\n",
      "Requirement already satisfied: kiwisolver>=1.0.1 in /home/saulo/anaconda3/lib/python3.8/site-packages (from matplotlib>=3.5.0->plotnine) (1.3.1)\n",
      "Requirement already satisfied: pillow>=6.2.0 in /home/saulo/anaconda3/lib/python3.8/site-packages (from matplotlib>=3.5.0->plotnine) (8.2.0)\n",
      "Collecting contourpy>=1.0.1\n",
      "  Downloading contourpy-1.0.5-cp38-cp38-manylinux_2_17_x86_64.manylinux2014_x86_64.whl (295 kB)\n",
      "\u001b[K     |████████████████████████████████| 295 kB 75.5 MB/s eta 0:00:01\n",
      "\u001b[?25hRequirement already satisfied: six in /home/saulo/anaconda3/lib/python3.8/site-packages (from cycler>=0.10->matplotlib>=3.5.0->plotnine) (1.15.0)\n",
      "Collecting palettable\n",
      "  Downloading palettable-3.3.0-py2.py3-none-any.whl (111 kB)\n",
      "\u001b[K     |████████████████████████████████| 111 kB 22.5 MB/s eta 0:00:01\n",
      "\u001b[?25hCollecting backports.zoneinfo\n",
      "  Downloading backports.zoneinfo-0.2.1-cp38-cp38-manylinux1_x86_64.whl (74 kB)\n",
      "\u001b[K     |████████████████████████████████| 74 kB 3.6 MB/s  eta 0:00:01\n",
      "\u001b[?25hCollecting numpy>=1.19.0\n",
      "  Downloading numpy-1.23.3-cp38-cp38-manylinux_2_17_x86_64.manylinux2014_x86_64.whl (17.1 MB)\n",
      "\u001b[K     |████████████████████████████████| 17.1 MB 14.9 MB/s eta 0:00:01\n",
      "\u001b[?25hRequirement already satisfied: pytz>=2020.1 in /home/saulo/anaconda3/lib/python3.8/site-packages (from pandas>=1.3.5->plotnine) (2021.1)\n",
      "  Downloading numpy-1.22.4-cp38-cp38-manylinux_2_17_x86_64.manylinux2014_x86_64.whl (16.9 MB)\n",
      "\u001b[K     |████████████████████████████████| 16.9 MB 26.0 MB/s eta 0:00:01\n",
      "\u001b[?25hCollecting patsy>=0.5.1\n",
      "  Downloading patsy-0.5.2-py2.py3-none-any.whl (233 kB)\n",
      "\u001b[K     |████████████████████████████████| 233 kB 15.5 MB/s eta 0:00:01\n",
      "\u001b[?25hCollecting packaging>=20.0\n",
      "  Downloading packaging-21.3-py3-none-any.whl (40 kB)\n",
      "\u001b[K     |████████████████████████████████| 40 kB 9.4 MB/s  eta 0:00:01\n",
      "\u001b[?25hInstalling collected packages: numpy, packaging, fonttools, contourpy, patsy, pandas, palettable, matplotlib, backports.zoneinfo, statsmodels, mizani, plotnine\n",
      "  Attempting uninstall: numpy\n",
      "    Found existing installation: numpy 1.20.1\n",
      "    Uninstalling numpy-1.20.1:\n",
      "      Successfully uninstalled numpy-1.20.1\n",
      "  Attempting uninstall: packaging\n",
      "    Found existing installation: packaging 20.9\n",
      "    Uninstalling packaging-20.9:\n",
      "      Successfully uninstalled packaging-20.9\n",
      "  Attempting uninstall: patsy\n",
      "    Found existing installation: patsy 0.5.1\n",
      "    Uninstalling patsy-0.5.1:\n",
      "      Successfully uninstalled patsy-0.5.1\n",
      "  Attempting uninstall: pandas\n",
      "    Found existing installation: pandas 1.2.4\n",
      "    Uninstalling pandas-1.2.4:\n",
      "      Successfully uninstalled pandas-1.2.4\n",
      "  Attempting uninstall: matplotlib\n",
      "    Found existing installation: matplotlib 3.3.4\n",
      "    Uninstalling matplotlib-3.3.4:\n",
      "      Successfully uninstalled matplotlib-3.3.4\n",
      "  Attempting uninstall: statsmodels\n",
      "    Found existing installation: statsmodels 0.12.2\n",
      "    Uninstalling statsmodels-0.12.2:\n",
      "      Successfully uninstalled statsmodels-0.12.2\n",
      "Successfully installed backports.zoneinfo-0.2.1 contourpy-1.0.5 fonttools-4.37.4 matplotlib-3.6.0 mizani-0.8.1 numpy-1.22.4 packaging-21.3 palettable-3.3.0 pandas-1.5.0 patsy-0.5.2 plotnine-0.10.1 statsmodels-0.13.2\n"
     ]
    }
   ],
   "source": [
    "!pip install plotnine"
   ]
  },
  {
   "cell_type": "code",
   "execution_count": 7,
   "id": "0dab272f",
   "metadata": {},
   "outputs": [],
   "source": [
    "import numpy as np\n",
    "import pandas as pd\n",
    "import matplotlib.pyplot as plt\n",
    "from sklearn.model_selection import train_test_split\n",
    "from sklearn.preprocessing import MinMaxScaler\n",
    "from sklearn.preprocessing import LabelEncoder\n",
    "from sklearn.preprocessing import OneHotEncoder\n",
    "from sklearn.linear_model import LogisticRegression\n",
    "from sklearn.tree import DecisionTreeClassifier\n",
    "from sklearn.neighbors import KNeighborsClassifier\n",
    "from sklearn.discriminant_analysis import LinearDiscriminantAnalysis\n",
    "from sklearn.ensemble import RandomForestClassifier\n",
    "from sklearn.svm import SVC\n",
    "from sklearn.metrics import plot_confusion_matrix\n",
    "from sklearn.metrics import precision_score\n",
    "from sklearn.metrics import recall_score\n",
    "from sklearn.metrics import plot_roc_curve\n",
    "from sklearn.metrics import plot_precision_recall_curve\n",
    "#import plotnine"
   ]
  },
  {
   "cell_type": "code",
   "execution_count": 16,
   "id": "b0edc335",
   "metadata": {},
   "outputs": [
    {
     "name": "stdout",
     "output_type": "stream",
     "text": [
      "Index(['Pregnancies', 'Glucose', 'BloodPressure', 'SkinThickness', 'Insulin',\n",
      "       'BMI', 'DiabetesPedigreeFunction', 'Age', 'Outcome'],\n",
      "      dtype='object') \n",
      " Shape: (768, 9)\n"
     ]
    }
   ],
   "source": [
    "df=pd.read_csv('diabetes.csv')\n",
    "print(df.columns,\"\\n\",\"Shape:\",df.shape)"
   ]
  },
  {
   "cell_type": "code",
   "execution_count": 18,
   "id": "5640df42",
   "metadata": {},
   "outputs": [
    {
     "data": {
      "text/plain": [
       "0    1\n",
       "1    0\n",
       "Name: Outcome, dtype: int64"
      ]
     },
     "execution_count": 18,
     "metadata": {},
     "output_type": "execute_result"
    }
   ],
   "source": [
    "df['Outcome'].drop_duplicates()"
   ]
  },
  {
   "cell_type": "code",
   "execution_count": 22,
   "id": "e7ed303c",
   "metadata": {},
   "outputs": [],
   "source": [
    "train, test = train_test_split(df, test_size=0.2, random_state=0)\n",
    "train, val = train_test_split(train, test_size=0.125, random_state=0)"
   ]
  },
  {
   "cell_type": "code",
   "execution_count": 23,
   "id": "694e2ee7",
   "metadata": {},
   "outputs": [
    {
     "name": "stdout",
     "output_type": "stream",
     "text": [
      "Base total: (768, 9)\n",
      "Treino: (537, 9)\n",
      "Validação: (77, 9)\n",
      "Test: (154, 9)\n"
     ]
    }
   ],
   "source": [
    "print(f\"Base total: {df.shape}\")\n",
    "print(f\"Treino: {train.shape}\")\n",
    "print(f\"Validação: {val.shape}\")\n",
    "print(f\"Test: {test.shape}\")"
   ]
  },
  {
   "cell_type": "code",
   "execution_count": 24,
   "id": "01d258db",
   "metadata": {},
   "outputs": [
    {
     "data": {
      "text/html": [
       "<div>\n",
       "<style scoped>\n",
       "    .dataframe tbody tr th:only-of-type {\n",
       "        vertical-align: middle;\n",
       "    }\n",
       "\n",
       "    .dataframe tbody tr th {\n",
       "        vertical-align: top;\n",
       "    }\n",
       "\n",
       "    .dataframe thead th {\n",
       "        text-align: right;\n",
       "    }\n",
       "</style>\n",
       "<table border=\"1\" class=\"dataframe\">\n",
       "  <thead>\n",
       "    <tr style=\"text-align: right;\">\n",
       "      <th></th>\n",
       "      <th>Valor Vazio</th>\n",
       "    </tr>\n",
       "  </thead>\n",
       "  <tbody>\n",
       "    <tr>\n",
       "      <th>Pregnancies</th>\n",
       "      <td>0</td>\n",
       "    </tr>\n",
       "    <tr>\n",
       "      <th>Glucose</th>\n",
       "      <td>0</td>\n",
       "    </tr>\n",
       "    <tr>\n",
       "      <th>BloodPressure</th>\n",
       "      <td>0</td>\n",
       "    </tr>\n",
       "    <tr>\n",
       "      <th>SkinThickness</th>\n",
       "      <td>0</td>\n",
       "    </tr>\n",
       "    <tr>\n",
       "      <th>Insulin</th>\n",
       "      <td>0</td>\n",
       "    </tr>\n",
       "    <tr>\n",
       "      <th>BMI</th>\n",
       "      <td>0</td>\n",
       "    </tr>\n",
       "    <tr>\n",
       "      <th>DiabetesPedigreeFunction</th>\n",
       "      <td>0</td>\n",
       "    </tr>\n",
       "    <tr>\n",
       "      <th>Age</th>\n",
       "      <td>0</td>\n",
       "    </tr>\n",
       "    <tr>\n",
       "      <th>Outcome</th>\n",
       "      <td>0</td>\n",
       "    </tr>\n",
       "  </tbody>\n",
       "</table>\n",
       "</div>"
      ],
      "text/plain": [
       "                          Valor Vazio\n",
       "Pregnancies                         0\n",
       "Glucose                             0\n",
       "BloodPressure                       0\n",
       "SkinThickness                       0\n",
       "Insulin                             0\n",
       "BMI                                 0\n",
       "DiabetesPedigreeFunction            0\n",
       "Age                                 0\n",
       "Outcome                             0"
      ]
     },
     "execution_count": 24,
     "metadata": {},
     "output_type": "execute_result"
    }
   ],
   "source": [
    "pd.isna(df).sum().to_frame(\"Valor Vazio\")"
   ]
  },
  {
   "cell_type": "code",
   "execution_count": 25,
   "id": "bb75238e",
   "metadata": {},
   "outputs": [
    {
     "name": "stderr",
     "output_type": "stream",
     "text": [
      "/home/saulo/anaconda3/lib/python3.8/site-packages/pandas/core/indexing.py:1738: SettingWithCopyWarning: \n",
      "A value is trying to be set on a copy of a slice from a DataFrame.\n",
      "Try using .loc[row_indexer,col_indexer] = value instead\n",
      "\n",
      "See the caveats in the documentation: https://pandas.pydata.org/pandas-docs/stable/user_guide/indexing.html#returning-a-view-versus-a-copy\n",
      "  #  we can short-circuit\n"
     ]
    }
   ],
   "source": [
    "train.iloc[:,0:8] = MinMaxScaler().fit_transform(train.iloc[:,0:8])\n",
    "val.iloc[:,0:8] = MinMaxScaler().fit_transform(val.iloc[:,0:8])\n",
    "test.iloc[:,0:8] = MinMaxScaler().fit_transform(test.iloc[:,0:8])"
   ]
  },
  {
   "cell_type": "code",
   "execution_count": 26,
   "id": "2849aebb",
   "metadata": {},
   "outputs": [
    {
     "data": {
      "text/html": [
       "<div>\n",
       "<style scoped>\n",
       "    .dataframe tbody tr th:only-of-type {\n",
       "        vertical-align: middle;\n",
       "    }\n",
       "\n",
       "    .dataframe tbody tr th {\n",
       "        vertical-align: top;\n",
       "    }\n",
       "\n",
       "    .dataframe thead th {\n",
       "        text-align: right;\n",
       "    }\n",
       "</style>\n",
       "<table border=\"1\" class=\"dataframe\">\n",
       "  <thead>\n",
       "    <tr style=\"text-align: right;\">\n",
       "      <th></th>\n",
       "      <th>Pregnancies</th>\n",
       "      <th>Glucose</th>\n",
       "      <th>BloodPressure</th>\n",
       "      <th>SkinThickness</th>\n",
       "      <th>Insulin</th>\n",
       "      <th>BMI</th>\n",
       "      <th>DiabetesPedigreeFunction</th>\n",
       "      <th>Age</th>\n",
       "      <th>Outcome</th>\n",
       "    </tr>\n",
       "  </thead>\n",
       "  <tbody>\n",
       "    <tr>\n",
       "      <th>301</th>\n",
       "      <td>0.117647</td>\n",
       "      <td>0.727273</td>\n",
       "      <td>0.475410</td>\n",
       "      <td>0.333333</td>\n",
       "      <td>0.159574</td>\n",
       "      <td>0.470939</td>\n",
       "      <td>0.146883</td>\n",
       "      <td>0.078431</td>\n",
       "      <td>1</td>\n",
       "    </tr>\n",
       "    <tr>\n",
       "      <th>712</th>\n",
       "      <td>0.588235</td>\n",
       "      <td>0.651515</td>\n",
       "      <td>0.508197</td>\n",
       "      <td>0.363636</td>\n",
       "      <td>0.000000</td>\n",
       "      <td>0.614009</td>\n",
       "      <td>0.154996</td>\n",
       "      <td>0.333333</td>\n",
       "      <td>1</td>\n",
       "    </tr>\n",
       "    <tr>\n",
       "      <th>294</th>\n",
       "      <td>0.000000</td>\n",
       "      <td>0.813131</td>\n",
       "      <td>0.409836</td>\n",
       "      <td>0.000000</td>\n",
       "      <td>0.000000</td>\n",
       "      <td>0.326379</td>\n",
       "      <td>0.075149</td>\n",
       "      <td>0.862745</td>\n",
       "      <td>0</td>\n",
       "    </tr>\n",
       "    <tr>\n",
       "      <th>209</th>\n",
       "      <td>0.411765</td>\n",
       "      <td>0.929293</td>\n",
       "      <td>0.688525</td>\n",
       "      <td>0.333333</td>\n",
       "      <td>0.000000</td>\n",
       "      <td>0.529061</td>\n",
       "      <td>0.118275</td>\n",
       "      <td>0.392157</td>\n",
       "      <td>1</td>\n",
       "    </tr>\n",
       "    <tr>\n",
       "      <th>717</th>\n",
       "      <td>0.588235</td>\n",
       "      <td>0.474747</td>\n",
       "      <td>0.590164</td>\n",
       "      <td>0.181818</td>\n",
       "      <td>0.000000</td>\n",
       "      <td>0.344262</td>\n",
       "      <td>0.220751</td>\n",
       "      <td>0.686275</td>\n",
       "      <td>0</td>\n",
       "    </tr>\n",
       "    <tr>\n",
       "      <th>...</th>\n",
       "      <td>...</td>\n",
       "      <td>...</td>\n",
       "      <td>...</td>\n",
       "      <td>...</td>\n",
       "      <td>...</td>\n",
       "      <td>...</td>\n",
       "      <td>...</td>\n",
       "      <td>...</td>\n",
       "      <td>...</td>\n",
       "    </tr>\n",
       "    <tr>\n",
       "      <th>715</th>\n",
       "      <td>0.411765</td>\n",
       "      <td>0.944444</td>\n",
       "      <td>0.409836</td>\n",
       "      <td>0.333333</td>\n",
       "      <td>0.463357</td>\n",
       "      <td>0.505216</td>\n",
       "      <td>0.319385</td>\n",
       "      <td>0.254902</td>\n",
       "      <td>1</td>\n",
       "    </tr>\n",
       "    <tr>\n",
       "      <th>530</th>\n",
       "      <td>0.117647</td>\n",
       "      <td>0.616162</td>\n",
       "      <td>0.491803</td>\n",
       "      <td>0.181818</td>\n",
       "      <td>0.125296</td>\n",
       "      <td>0.444113</td>\n",
       "      <td>0.272844</td>\n",
       "      <td>0.019608</td>\n",
       "      <td>0</td>\n",
       "    </tr>\n",
       "    <tr>\n",
       "      <th>93</th>\n",
       "      <td>0.235294</td>\n",
       "      <td>0.676768</td>\n",
       "      <td>0.590164</td>\n",
       "      <td>0.000000</td>\n",
       "      <td>0.000000</td>\n",
       "      <td>0.354694</td>\n",
       "      <td>0.084970</td>\n",
       "      <td>0.764706</td>\n",
       "      <td>1</td>\n",
       "    </tr>\n",
       "    <tr>\n",
       "      <th>628</th>\n",
       "      <td>0.294118</td>\n",
       "      <td>0.646465</td>\n",
       "      <td>0.655738</td>\n",
       "      <td>0.000000</td>\n",
       "      <td>0.000000</td>\n",
       "      <td>0.515648</td>\n",
       "      <td>0.028181</td>\n",
       "      <td>0.470588</td>\n",
       "      <td>0</td>\n",
       "    </tr>\n",
       "    <tr>\n",
       "      <th>273</th>\n",
       "      <td>0.058824</td>\n",
       "      <td>0.358586</td>\n",
       "      <td>0.639344</td>\n",
       "      <td>0.505051</td>\n",
       "      <td>0.053191</td>\n",
       "      <td>0.494784</td>\n",
       "      <td>0.146883</td>\n",
       "      <td>0.000000</td>\n",
       "      <td>0</td>\n",
       "    </tr>\n",
       "  </tbody>\n",
       "</table>\n",
       "<p>537 rows × 9 columns</p>\n",
       "</div>"
      ],
      "text/plain": [
       "     Pregnancies   Glucose  BloodPressure  SkinThickness   Insulin       BMI  \\\n",
       "301     0.117647  0.727273       0.475410       0.333333  0.159574  0.470939   \n",
       "712     0.588235  0.651515       0.508197       0.363636  0.000000  0.614009   \n",
       "294     0.000000  0.813131       0.409836       0.000000  0.000000  0.326379   \n",
       "209     0.411765  0.929293       0.688525       0.333333  0.000000  0.529061   \n",
       "717     0.588235  0.474747       0.590164       0.181818  0.000000  0.344262   \n",
       "..           ...       ...            ...            ...       ...       ...   \n",
       "715     0.411765  0.944444       0.409836       0.333333  0.463357  0.505216   \n",
       "530     0.117647  0.616162       0.491803       0.181818  0.125296  0.444113   \n",
       "93      0.235294  0.676768       0.590164       0.000000  0.000000  0.354694   \n",
       "628     0.294118  0.646465       0.655738       0.000000  0.000000  0.515648   \n",
       "273     0.058824  0.358586       0.639344       0.505051  0.053191  0.494784   \n",
       "\n",
       "     DiabetesPedigreeFunction       Age  Outcome  \n",
       "301                  0.146883  0.078431        1  \n",
       "712                  0.154996  0.333333        1  \n",
       "294                  0.075149  0.862745        0  \n",
       "209                  0.118275  0.392157        1  \n",
       "717                  0.220751  0.686275        0  \n",
       "..                        ...       ...      ...  \n",
       "715                  0.319385  0.254902        1  \n",
       "530                  0.272844  0.019608        0  \n",
       "93                   0.084970  0.764706        1  \n",
       "628                  0.028181  0.470588        0  \n",
       "273                  0.146883  0.000000        0  \n",
       "\n",
       "[537 rows x 9 columns]"
      ]
     },
     "execution_count": 26,
     "metadata": {},
     "output_type": "execute_result"
    }
   ],
   "source": [
    "train"
   ]
  },
  {
   "cell_type": "code",
   "execution_count": 27,
   "id": "aecec4f6",
   "metadata": {},
   "outputs": [],
   "source": [
    "train_x = train.drop(columns=['Outcome'],axis=1)\n",
    "train_y = train['Outcome']"
   ]
  },
  {
   "cell_type": "code",
   "execution_count": 29,
   "id": "ccb28d1a",
   "metadata": {},
   "outputs": [],
   "source": [
    "val_x = val.drop(columns=['Outcome'],axis=1)\n",
    "val_y = val['Outcome']\n",
    "\n",
    "test_x = test.drop(columns=['Outcome'],axis=1)\n",
    "test_y = test['Outcome']"
   ]
  },
  {
   "cell_type": "code",
   "execution_count": 31,
   "id": "45d99bfd",
   "metadata": {},
   "outputs": [],
   "source": [
    "LR = LogisticRegression(solver='lbfgs',max_iter=10000).fit(train_x,train_y)\n",
    "LDA = LinearDiscriminantAnalysis().fit(train_x,train_y)\n",
    "DT = DecisionTreeClassifier().fit(train_x,train_y)\n",
    "KN = KNeighborsClassifier().fit(train_x,train_y)\n",
    "SVM = SVC().fit(train_x,train_y)\n",
    "RF = RandomForestClassifier().fit(train_x,train_y)"
   ]
  },
  {
   "cell_type": "code",
   "execution_count": 33,
   "id": "a2c2f38e",
   "metadata": {},
   "outputs": [
    {
     "data": {
      "text/html": [
       "<div>\n",
       "<style scoped>\n",
       "    .dataframe tbody tr th:only-of-type {\n",
       "        vertical-align: middle;\n",
       "    }\n",
       "\n",
       "    .dataframe tbody tr th {\n",
       "        vertical-align: top;\n",
       "    }\n",
       "\n",
       "    .dataframe thead th {\n",
       "        text-align: right;\n",
       "    }\n",
       "</style>\n",
       "<table border=\"1\" class=\"dataframe\">\n",
       "  <thead>\n",
       "    <tr style=\"text-align: right;\">\n",
       "      <th></th>\n",
       "      <th>Accuracy</th>\n",
       "      <th>Precision</th>\n",
       "      <th>Recall</th>\n",
       "    </tr>\n",
       "  </thead>\n",
       "  <tbody>\n",
       "    <tr>\n",
       "      <th>LR</th>\n",
       "      <td>0.765363</td>\n",
       "      <td>0.748092</td>\n",
       "      <td>0.513089</td>\n",
       "    </tr>\n",
       "    <tr>\n",
       "      <th>LDA</th>\n",
       "      <td>0.772812</td>\n",
       "      <td>0.728477</td>\n",
       "      <td>0.575916</td>\n",
       "    </tr>\n",
       "    <tr>\n",
       "      <th>DT</th>\n",
       "      <td>1.000000</td>\n",
       "      <td>1.000000</td>\n",
       "      <td>1.000000</td>\n",
       "    </tr>\n",
       "    <tr>\n",
       "      <th>KN</th>\n",
       "      <td>0.800745</td>\n",
       "      <td>0.765823</td>\n",
       "      <td>0.633508</td>\n",
       "    </tr>\n",
       "    <tr>\n",
       "      <th>SVM</th>\n",
       "      <td>0.797020</td>\n",
       "      <td>0.805970</td>\n",
       "      <td>0.565445</td>\n",
       "    </tr>\n",
       "    <tr>\n",
       "      <th>RF</th>\n",
       "      <td>1.000000</td>\n",
       "      <td>1.000000</td>\n",
       "      <td>1.000000</td>\n",
       "    </tr>\n",
       "  </tbody>\n",
       "</table>\n",
       "</div>"
      ],
      "text/plain": [
       "     Accuracy  Precision    Recall\n",
       "LR   0.765363   0.748092  0.513089\n",
       "LDA  0.772812   0.728477  0.575916\n",
       "DT   1.000000   1.000000  1.000000\n",
       "KN   0.800745   0.765823  0.633508\n",
       "SVM  0.797020   0.805970  0.565445\n",
       "RF   1.000000   1.000000  1.000000"
      ]
     },
     "execution_count": 33,
     "metadata": {},
     "output_type": "execute_result"
    }
   ],
   "source": [
    "metricas_treino = {\n",
    "    'Accuracy':[LR.score(train_x,train_y),\n",
    "               LDA.score(train_x,train_y),\n",
    "               DT.score(train_x,train_y),\n",
    "               KN.score(train_x,train_y),\n",
    "               SVM.score(train_x,train_y),\n",
    "               RF.score(train_x,train_y)],\n",
    "    'Precision':[precision_score(train_y,LR.predict(train_x)),\n",
    "                precision_score(train_y,LDA.predict(train_x)),\n",
    "                precision_score(train_y,DT.predict(train_x)),\n",
    "                precision_score(train_y,KN.predict(train_x)),\n",
    "                precision_score(train_y,SVM.predict(train_x)),\n",
    "                precision_score(train_y,RF.predict(train_x))],\n",
    "    'Recall':[recall_score(train_y,LR.predict(train_x)),\n",
    "             recall_score(train_y,LDA.predict(train_x)),\n",
    "             recall_score(train_y,DT.predict(train_x)),\n",
    "             recall_score(train_y,KN.predict(train_x)),\n",
    "             recall_score(train_y,SVM.predict(train_x)),\n",
    "             recall_score(train_y,RF.predict(train_x))]\n",
    "}\n",
    "dados = pd.DataFrame(metricas_treino,\n",
    "                     columns=['Accuracy','Precision','Recall'],\n",
    "                    index=['LR','LDA','DT','KN','SVM','RF'])\n",
    "dados"
   ]
  },
  {
   "cell_type": "code",
   "execution_count": 34,
   "id": "7dffcdfe",
   "metadata": {},
   "outputs": [
    {
     "data": {
      "text/html": [
       "<div>\n",
       "<style scoped>\n",
       "    .dataframe tbody tr th:only-of-type {\n",
       "        vertical-align: middle;\n",
       "    }\n",
       "\n",
       "    .dataframe tbody tr th {\n",
       "        vertical-align: top;\n",
       "    }\n",
       "\n",
       "    .dataframe thead th {\n",
       "        text-align: right;\n",
       "    }\n",
       "</style>\n",
       "<table border=\"1\" class=\"dataframe\">\n",
       "  <thead>\n",
       "    <tr style=\"text-align: right;\">\n",
       "      <th></th>\n",
       "      <th>Accuracy</th>\n",
       "      <th>Precision</th>\n",
       "      <th>Recall</th>\n",
       "    </tr>\n",
       "  </thead>\n",
       "  <tbody>\n",
       "    <tr>\n",
       "      <th>LR</th>\n",
       "      <td>0.753247</td>\n",
       "      <td>0.923077</td>\n",
       "      <td>0.400000</td>\n",
       "    </tr>\n",
       "    <tr>\n",
       "      <th>LDA</th>\n",
       "      <td>0.727273</td>\n",
       "      <td>0.800000</td>\n",
       "      <td>0.400000</td>\n",
       "    </tr>\n",
       "    <tr>\n",
       "      <th>DT</th>\n",
       "      <td>0.740260</td>\n",
       "      <td>0.750000</td>\n",
       "      <td>0.500000</td>\n",
       "    </tr>\n",
       "    <tr>\n",
       "      <th>KN</th>\n",
       "      <td>0.779221</td>\n",
       "      <td>0.882353</td>\n",
       "      <td>0.500000</td>\n",
       "    </tr>\n",
       "    <tr>\n",
       "      <th>SVM</th>\n",
       "      <td>0.740260</td>\n",
       "      <td>0.857143</td>\n",
       "      <td>0.400000</td>\n",
       "    </tr>\n",
       "    <tr>\n",
       "      <th>RF</th>\n",
       "      <td>1.000000</td>\n",
       "      <td>0.764706</td>\n",
       "      <td>0.433333</td>\n",
       "    </tr>\n",
       "  </tbody>\n",
       "</table>\n",
       "</div>"
      ],
      "text/plain": [
       "     Accuracy  Precision    Recall\n",
       "LR   0.753247   0.923077  0.400000\n",
       "LDA  0.727273   0.800000  0.400000\n",
       "DT   0.740260   0.750000  0.500000\n",
       "KN   0.779221   0.882353  0.500000\n",
       "SVM  0.740260   0.857143  0.400000\n",
       "RF   1.000000   0.764706  0.433333"
      ]
     },
     "execution_count": 34,
     "metadata": {},
     "output_type": "execute_result"
    }
   ],
   "source": [
    "metricas_treino = {\n",
    "    'Accuracy':[LR.score(val_x,val_y),\n",
    "               LDA.score(val_x,val_y),\n",
    "               DT.score(val_x,val_y),\n",
    "               KN.score(val_x,val_y),\n",
    "               SVM.score(val_x,val_y),\n",
    "               RF.score(train_x,train_y)],\n",
    "    'Precision':[precision_score(val_y,LR.predict(val_x)),\n",
    "                precision_score(val_y,LDA.predict(val_x)),\n",
    "                precision_score(val_y,DT.predict(val_x)),\n",
    "                precision_score(val_y,KN.predict(val_x)),\n",
    "                precision_score(val_y,SVM.predict(val_x)),\n",
    "                precision_score(val_y,RF.predict(val_x))],\n",
    "    'Recall':[recall_score(val_y,LR.predict(val_x)),\n",
    "             recall_score(val_y,LDA.predict(val_x)),\n",
    "             recall_score(val_y,DT.predict(val_x)),\n",
    "             recall_score(val_y,KN.predict(val_x)),\n",
    "             recall_score(val_y,SVM.predict(val_x)),\n",
    "             recall_score(val_y,RF.predict(val_x))]\n",
    "}\n",
    "dados = pd.DataFrame(metricas_treino,\n",
    "                     columns=['Accuracy','Precision','Recall'],\n",
    "                    index=['LR','LDA','DT','KN','SVM','RF'])\n",
    "dados"
   ]
  },
  {
   "cell_type": "code",
   "execution_count": 35,
   "id": "45f230a4",
   "metadata": {},
   "outputs": [
    {
     "data": {
      "text/html": [
       "<div>\n",
       "<style scoped>\n",
       "    .dataframe tbody tr th:only-of-type {\n",
       "        vertical-align: middle;\n",
       "    }\n",
       "\n",
       "    .dataframe tbody tr th {\n",
       "        vertical-align: top;\n",
       "    }\n",
       "\n",
       "    .dataframe thead th {\n",
       "        text-align: right;\n",
       "    }\n",
       "</style>\n",
       "<table border=\"1\" class=\"dataframe\">\n",
       "  <thead>\n",
       "    <tr style=\"text-align: right;\">\n",
       "      <th></th>\n",
       "      <th>Accuracy</th>\n",
       "      <th>Precision</th>\n",
       "      <th>Recall</th>\n",
       "    </tr>\n",
       "  </thead>\n",
       "  <tbody>\n",
       "    <tr>\n",
       "      <th>LR</th>\n",
       "      <td>0.766234</td>\n",
       "      <td>0.582090</td>\n",
       "      <td>0.829787</td>\n",
       "    </tr>\n",
       "    <tr>\n",
       "      <th>LDA</th>\n",
       "      <td>0.753247</td>\n",
       "      <td>0.561644</td>\n",
       "      <td>0.872340</td>\n",
       "    </tr>\n",
       "    <tr>\n",
       "      <th>DT</th>\n",
       "      <td>0.688312</td>\n",
       "      <td>0.492308</td>\n",
       "      <td>0.680851</td>\n",
       "    </tr>\n",
       "    <tr>\n",
       "      <th>KN</th>\n",
       "      <td>0.746753</td>\n",
       "      <td>0.574074</td>\n",
       "      <td>0.659574</td>\n",
       "    </tr>\n",
       "    <tr>\n",
       "      <th>SVM</th>\n",
       "      <td>0.785714</td>\n",
       "      <td>0.634615</td>\n",
       "      <td>0.702128</td>\n",
       "    </tr>\n",
       "    <tr>\n",
       "      <th>RF</th>\n",
       "      <td>0.766234</td>\n",
       "      <td>0.600000</td>\n",
       "      <td>0.702128</td>\n",
       "    </tr>\n",
       "  </tbody>\n",
       "</table>\n",
       "</div>"
      ],
      "text/plain": [
       "     Accuracy  Precision    Recall\n",
       "LR   0.766234   0.582090  0.829787\n",
       "LDA  0.753247   0.561644  0.872340\n",
       "DT   0.688312   0.492308  0.680851\n",
       "KN   0.746753   0.574074  0.659574\n",
       "SVM  0.785714   0.634615  0.702128\n",
       "RF   0.766234   0.600000  0.702128"
      ]
     },
     "execution_count": 35,
     "metadata": {},
     "output_type": "execute_result"
    }
   ],
   "source": [
    "metricas_treino = {\n",
    "    'Accuracy':[LR.score(test_x,test_y),\n",
    "               LDA.score(test_x,test_y),\n",
    "               DT.score(test_x,test_y),\n",
    "               KN.score(test_x,test_y),\n",
    "               SVM.score(test_x,test_y),\n",
    "               RF.score(test_x,test_y)],\n",
    "    'Precision':[precision_score(test_y,LR.predict(test_x)),\n",
    "                precision_score(test_y,LDA.predict(test_x)),\n",
    "                precision_score(test_y,DT.predict(test_x)),\n",
    "                precision_score(test_y,KN.predict(test_x)),\n",
    "                precision_score(test_y,SVM.predict(test_x)),\n",
    "                precision_score(test_y,RF.predict(test_x))],\n",
    "    'Recall':[recall_score(test_y,LR.predict(test_x)),\n",
    "             recall_score(test_y,LDA.predict(test_x)),\n",
    "             recall_score(test_y,DT.predict(test_x)),\n",
    "             recall_score(test_y,KN.predict(test_x)),\n",
    "             recall_score(test_y,SVM.predict(test_x)),\n",
    "             recall_score(test_y,RF.predict(test_x))]\n",
    "}\n",
    "dados = pd.DataFrame(metricas_treino,\n",
    "                     columns=['Accuracy','Precision','Recall'],\n",
    "                    index=['LR','LDA','DT','KN','SVM','RF'])\n",
    "dados"
   ]
  },
  {
   "cell_type": "code",
   "execution_count": 36,
   "id": "a31ddcab",
   "metadata": {},
   "outputs": [
    {
     "data": {
      "image/png": "[encoded data removed]",
      "text/plain": [
       "<Figure size 432x288 with 2 Axes>"
      ]
     },
     "metadata": {
      "needs_background": "light"
     },
     "output_type": "display_data"
    }
   ],
   "source": [
    "plot_confusion_matrix(RF,test_x,test_y)\n",
    "plt.show()"
   ]
  },
  {
   "cell_type": "code",
   "execution_count": 37,
   "id": "6243395f",
   "metadata": {},
   "outputs": [
    {
     "data": {
      "text/plain": [
       "<sklearn.metrics._plot.roc_curve.RocCurveDisplay at 0x7fd49b281eb0>"
      ]
     },
     "execution_count": 37,
     "metadata": {},
     "output_type": "execute_result"
    },
    {
     "data": {
      "image/png": "[encoded data removed]",
      "text/plain": [
       "<Figure size 432x288 with 1 Axes>"
      ]
     },
     "metadata": {
      "needs_background": "light"
     },
     "output_type": "display_data"
    }
   ],
   "source": [
    "plot_roc_curve(LR,test_x,test_y,ax=plt.gca())\n",
    "plot_roc_curve(LDA,test_x,test_y,ax=plt.gca())\n",
    "plot_roc_curve(DT,test_x,test_y,ax=plt.gca())\n",
    "plot_roc_curve(KN,test_x,test_y,ax=plt.gca())\n",
    "plot_roc_curve(SVM,test_x,test_y,ax=plt.gca())\n",
    "plot_roc_curve(RF,test_x,test_y,ax=plt.gca())"
   ]
  },
  {
   "cell_type": "code",
   "execution_count": 38,
   "id": "299993ae",
   "metadata": {},
   "outputs": [
    {
     "data": {
      "text/plain": [
       "<sklearn.metrics._plot.precision_recall_curve.PrecisionRecallDisplay at 0x7fd49a8fcbb0>"
      ]
     },
     "execution_count": 38,
     "metadata": {},
     "output_type": "execute_result"
    },
    {
     "data": {
      "image/png": "[encoded data removed]",
      "text/plain": [
       "<Figure size 432x288 with 1 Axes>"
      ]
     },
     "metadata": {
      "needs_background": "light"
     },
     "output_type": "display_data"
    }
   ],
   "source": [
    "plot_precision_recall_curve(LR,test_x,test_y,ax=plt.gca())\n",
    "plot_precision_recall_curve(LDA,test_x,test_y,ax=plt.gca())\n",
    "plot_precision_recall_curve(DT,test_x,test_y,ax=plt.gca())\n",
    "plot_precision_recall_curve(KN,test_x,test_y,ax=plt.gca())\n",
    "plot_precision_recall_curve(SVM,test_x,test_y,ax=plt.gca())\n",
    "plot_precision_recall_curve(RF,test_x,test_y,ax=plt.gca())"
   ]
  },
  {
   "cell_type": "code",
   "execution_count": null,
   "id": "2e7595bb",
   "metadata": {},
   "outputs": [],
   "source": []
  }
 ],
 "metadata": {
  "kernelspec": {
   "display_name": "Python 3",
   "language": "python",
   "name": "python3"
  },
  "language_info": {
   "codemirror_mode": {
    "name": "ipython",
    "version": 3
   },
   "file_extension": ".py",
   "mimetype": "text/x-python",
   "name": "python",
   "nbconvert_exporter": "python",
   "pygments_lexer": "ipython3",
   "version": "3.8.5"
  }
 },
 "nbformat": 4,
 "nbformat_minor": 5
}
