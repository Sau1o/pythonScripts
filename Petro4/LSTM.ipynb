{
 "cells": [
  {
   "cell_type": "code",
   "execution_count": 1,
   "id": "63ae056b",
   "metadata": {},
   "outputs": [],
   "source": [
    "from keras.models import Sequential\n",
    "from keras.layers import Dense, Dropout,LSTM\n",
    "import numpy as np\n",
    "import pandas as pd\n",
    "from sklearn.preprocessing import MinMaxScaler\n",
    "import matplotlib.pyplot as plt"
   ]
  },
  {
   "cell_type": "code",
   "execution_count": 3,
   "id": "0cff1941",
   "metadata": {},
   "outputs": [],
   "source": [
    "base = pd.read_csv('petr4_treinamento.csv')\n",
    "base = base.dropna()"
   ]
  },
  {
   "cell_type": "code",
   "execution_count": 5,
   "id": "f33966a8",
   "metadata": {},
   "outputs": [],
   "source": [
    "base_treinamento =  base.iloc[:,1:2].values"
   ]
  },
  {
   "cell_type": "code",
   "execution_count": 6,
   "id": "e9732599",
   "metadata": {},
   "outputs": [
    {
     "data": {
      "text/plain": [
       "(1242, 1)"
      ]
     },
     "execution_count": 6,
     "metadata": {},
     "output_type": "execute_result"
    }
   ],
   "source": [
    "normalizador = MinMaxScaler(feature_range=(0,1))\n",
    "base_treinamento = normalizador.fit_transform(base_treinamento)\n",
    "base_treinamento.shape"
   ]
  },
  {
   "cell_type": "code",
   "execution_count": 37,
   "id": "3a2c4da2",
   "metadata": {},
   "outputs": [
    {
     "data": {
      "text/plain": [
       "array([[0.76501938],\n",
       "       [0.7562984 ],\n",
       "       [0.78149225],\n",
       "       ...,\n",
       "       [0.57122093],\n",
       "       [0.57655039],\n",
       "       [0.57655039]])"
      ]
     },
     "execution_count": 37,
     "metadata": {},
     "output_type": "execute_result"
    }
   ],
   "source": [
    "base_treinamento"
   ]
  },
  {
   "cell_type": "code",
   "execution_count": 38,
   "id": "5d9e2cf1",
   "metadata": {},
   "outputs": [],
   "source": [
    "previsores = []\n",
    "preco_real = []\n",
    "\n",
    "for i in range(90,base_treinamento.shape[0]):\n",
    "    previsores.append(base_treinamento[i-90:i,0])\n",
    "    preco_real.append(base_treinamento[i,0])\n",
    "previsores,preco_real = np.array(previsores), np.array(preco_real)"
   ]
  },
  {
   "cell_type": "code",
   "execution_count": 39,
   "id": "bfa2ccd7",
   "metadata": {},
   "outputs": [
    {
     "data": {
      "text/plain": [
       "(1152, 90, 1)"
      ]
     },
     "execution_count": 39,
     "metadata": {},
     "output_type": "execute_result"
    }
   ],
   "source": [
    "previsores=np.reshape(previsores,(previsores.shape[0],previsores.shape[1],1))\n",
    "previsores.shape"
   ]
  },
  {
   "cell_type": "code",
   "execution_count": 40,
   "id": "504fb692",
   "metadata": {},
   "outputs": [
    {
     "name": "stdout",
     "output_type": "stream",
     "text": [
      "Epoch 1/100\n",
      "36/36 [==============================] - 9s 129ms/step - loss: 0.0423 - mean_absolute_error: 0.1380\n",
      "Epoch 2/100\n",
      "36/36 [==============================] - 4s 119ms/step - loss: 0.0166 - mean_absolute_error: 0.1011\n",
      "Epoch 3/100\n",
      "36/36 [==============================] - 5s 142ms/step - loss: 0.0149 - mean_absolute_error: 0.0959\n",
      "Epoch 4/100\n",
      "36/36 [==============================] - 4s 115ms/step - loss: 0.0115 - mean_absolute_error: 0.0836\n",
      "Epoch 5/100\n",
      "36/36 [==============================] - 4s 124ms/step - loss: 0.0117 - mean_absolute_error: 0.0840\n",
      "Epoch 6/100\n",
      "36/36 [==============================] - 4s 114ms/step - loss: 0.0084 - mean_absolute_error: 0.0707\n",
      "Epoch 7/100\n",
      "36/36 [==============================] - 4s 115ms/step - loss: 0.0092 - mean_absolute_error: 0.0738\n",
      "Epoch 8/100\n",
      "36/36 [==============================] - 4s 115ms/step - loss: 0.0085 - mean_absolute_error: 0.0711\n",
      "Epoch 9/100\n",
      "36/36 [==============================] - 4s 115ms/step - loss: 0.0083 - mean_absolute_error: 0.0687\n",
      "Epoch 10/100\n",
      "36/36 [==============================] - 4s 115ms/step - loss: 0.0072 - mean_absolute_error: 0.0648\n",
      "Epoch 11/100\n",
      "36/36 [==============================] - 4s 120ms/step - loss: 0.0068 - mean_absolute_error: 0.0626\n",
      "Epoch 12/100\n",
      "36/36 [==============================] - 4s 120ms/step - loss: 0.0064 - mean_absolute_error: 0.0591\n",
      "Epoch 13/100\n",
      "36/36 [==============================] - 4s 116ms/step - loss: 0.0056 - mean_absolute_error: 0.0571\n",
      "Epoch 14/100\n",
      "36/36 [==============================] - 4s 116ms/step - loss: 0.0056 - mean_absolute_error: 0.0572\n",
      "Epoch 15/100\n",
      "36/36 [==============================] - 5s 126ms/step - loss: 0.0051 - mean_absolute_error: 0.0552\n",
      "Epoch 16/100\n",
      "36/36 [==============================] - 4s 115ms/step - loss: 0.0052 - mean_absolute_error: 0.0549\n",
      "Epoch 17/100\n",
      "36/36 [==============================] - 4s 116ms/step - loss: 0.0050 - mean_absolute_error: 0.0540\n",
      "Epoch 18/100\n",
      "36/36 [==============================] - 4s 115ms/step - loss: 0.0049 - mean_absolute_error: 0.0526\n",
      "Epoch 19/100\n",
      "36/36 [==============================] - 4s 119ms/step - loss: 0.0045 - mean_absolute_error: 0.0502\n",
      "Epoch 20/100\n",
      "36/36 [==============================] - 4s 115ms/step - loss: 0.0042 - mean_absolute_error: 0.0489\n",
      "Epoch 21/100\n",
      "36/36 [==============================] - 4s 117ms/step - loss: 0.0045 - mean_absolute_error: 0.0513\n",
      "Epoch 22/100\n",
      "36/36 [==============================] - 4s 115ms/step - loss: 0.0038 - mean_absolute_error: 0.0473\n",
      "Epoch 23/100\n",
      "36/36 [==============================] - 4s 115ms/step - loss: 0.0043 - mean_absolute_error: 0.0498\n",
      "Epoch 24/100\n",
      "36/36 [==============================] - 4s 119ms/step - loss: 0.0040 - mean_absolute_error: 0.0489\n",
      "Epoch 25/100\n",
      "36/36 [==============================] - 5s 125ms/step - loss: 0.0033 - mean_absolute_error: 0.0441\n",
      "Epoch 26/100\n",
      "36/36 [==============================] - 4s 116ms/step - loss: 0.0039 - mean_absolute_error: 0.0471\n",
      "Epoch 27/100\n",
      "36/36 [==============================] - 4s 123ms/step - loss: 0.0038 - mean_absolute_error: 0.0459\n",
      "Epoch 28/100\n",
      "36/36 [==============================] - 4s 115ms/step - loss: 0.0035 - mean_absolute_error: 0.0454\n",
      "Epoch 29/100\n",
      "36/36 [==============================] - 4s 116ms/step - loss: 0.0033 - mean_absolute_error: 0.0440\n",
      "Epoch 30/100\n",
      "36/36 [==============================] - 4s 115ms/step - loss: 0.0036 - mean_absolute_error: 0.0454\n",
      "Epoch 31/100\n",
      "36/36 [==============================] - 4s 115ms/step - loss: 0.0031 - mean_absolute_error: 0.0419\n",
      "Epoch 32/100\n",
      "36/36 [==============================] - 4s 116ms/step - loss: 0.0028 - mean_absolute_error: 0.0399\n",
      "Epoch 33/100\n",
      "36/36 [==============================] - 4s 124ms/step - loss: 0.0029 - mean_absolute_error: 0.0410\n",
      "Epoch 34/100\n",
      "36/36 [==============================] - 4s 116ms/step - loss: 0.0028 - mean_absolute_error: 0.0404\n",
      "Epoch 35/100\n",
      "36/36 [==============================] - 4s 115ms/step - loss: 0.0028 - mean_absolute_error: 0.0407\n",
      "Epoch 36/100\n",
      "36/36 [==============================] - 4s 115ms/step - loss: 0.0028 - mean_absolute_error: 0.0412\n",
      "Epoch 37/100\n",
      "36/36 [==============================] - 4s 115ms/step - loss: 0.0026 - mean_absolute_error: 0.0388\n",
      "Epoch 38/100\n",
      "36/36 [==============================] - 4s 116ms/step - loss: 0.0031 - mean_absolute_error: 0.0419\n",
      "Epoch 39/100\n",
      "36/36 [==============================] - 4s 120ms/step - loss: 0.0028 - mean_absolute_error: 0.0398\n",
      "Epoch 40/100\n",
      "36/36 [==============================] - 4s 116ms/step - loss: 0.0028 - mean_absolute_error: 0.0414\n",
      "Epoch 41/100\n",
      "36/36 [==============================] - 4s 115ms/step - loss: 0.0027 - mean_absolute_error: 0.0396\n",
      "Epoch 42/100\n",
      "36/36 [==============================] - 4s 115ms/step - loss: 0.0025 - mean_absolute_error: 0.0380\n",
      "Epoch 43/100\n",
      "36/36 [==============================] - 4s 115ms/step - loss: 0.0025 - mean_absolute_error: 0.0391\n",
      "Epoch 44/100\n",
      "36/36 [==============================] - 4s 115ms/step - loss: 0.0024 - mean_absolute_error: 0.0376\n",
      "Epoch 45/100\n",
      "36/36 [==============================] - 4s 115ms/step - loss: 0.0025 - mean_absolute_error: 0.0381\n",
      "Epoch 46/100\n",
      "36/36 [==============================] - 4s 116ms/step - loss: 0.0024 - mean_absolute_error: 0.0365\n",
      "Epoch 47/100\n",
      "36/36 [==============================] - 4s 116ms/step - loss: 0.0024 - mean_absolute_error: 0.0374\n",
      "Epoch 48/100\n",
      "36/36 [==============================] - 4s 115ms/step - loss: 0.0023 - mean_absolute_error: 0.0372\n",
      "Epoch 49/100\n",
      "36/36 [==============================] - 4s 115ms/step - loss: 0.0023 - mean_absolute_error: 0.0370\n",
      "Epoch 50/100\n",
      "36/36 [==============================] - 4s 116ms/step - loss: 0.0025 - mean_absolute_error: 0.0376\n",
      "Epoch 51/100\n",
      "36/36 [==============================] - 4s 115ms/step - loss: 0.0022 - mean_absolute_error: 0.0356\n",
      "Epoch 52/100\n",
      "36/36 [==============================] - 4s 117ms/step - loss: 0.0021 - mean_absolute_error: 0.0345\n",
      "Epoch 53/100\n",
      "36/36 [==============================] - 4s 115ms/step - loss: 0.0021 - mean_absolute_error: 0.0352\n",
      "Epoch 54/100\n",
      "36/36 [==============================] - 4s 118ms/step - loss: 0.0022 - mean_absolute_error: 0.0358\n",
      "Epoch 55/100\n",
      "36/36 [==============================] - 4s 115ms/step - loss: 0.0022 - mean_absolute_error: 0.0356\n",
      "Epoch 56/100\n",
      "36/36 [==============================] - 4s 115ms/step - loss: 0.0021 - mean_absolute_error: 0.0342\n",
      "Epoch 57/100\n",
      "36/36 [==============================] - 4s 118ms/step - loss: 0.0022 - mean_absolute_error: 0.0362\n",
      "Epoch 58/100\n",
      "36/36 [==============================] - 4s 114ms/step - loss: 0.0020 - mean_absolute_error: 0.0345\n",
      "Epoch 59/100\n",
      "36/36 [==============================] - 4s 115ms/step - loss: 0.0019 - mean_absolute_error: 0.0329\n",
      "Epoch 60/100\n",
      "36/36 [==============================] - 4s 114ms/step - loss: 0.0019 - mean_absolute_error: 0.0337\n",
      "Epoch 61/100\n",
      "36/36 [==============================] - 4s 116ms/step - loss: 0.0023 - mean_absolute_error: 0.0360\n",
      "Epoch 62/100\n",
      "36/36 [==============================] - 4s 115ms/step - loss: 0.0021 - mean_absolute_error: 0.0339\n",
      "Epoch 63/100\n",
      "36/36 [==============================] - 4s 115ms/step - loss: 0.0021 - mean_absolute_error: 0.0336\n",
      "Epoch 64/100\n",
      "36/36 [==============================] - 4s 115ms/step - loss: 0.0022 - mean_absolute_error: 0.0350\n",
      "Epoch 65/100\n",
      "36/36 [==============================] - 4s 115ms/step - loss: 0.0020 - mean_absolute_error: 0.0342\n",
      "Epoch 66/100\n",
      "36/36 [==============================] - 4s 115ms/step - loss: 0.0019 - mean_absolute_error: 0.0332\n",
      "Epoch 67/100\n",
      "36/36 [==============================] - 4s 116ms/step - loss: 0.0018 - mean_absolute_error: 0.0324\n",
      "Epoch 68/100\n",
      "36/36 [==============================] - 4s 118ms/step - loss: 0.0018 - mean_absolute_error: 0.0317\n",
      "Epoch 69/100\n",
      "36/36 [==============================] - 4s 117ms/step - loss: 0.0020 - mean_absolute_error: 0.0342\n",
      "Epoch 70/100\n",
      "36/36 [==============================] - 4s 114ms/step - loss: 0.0016 - mean_absolute_error: 0.0306\n",
      "Epoch 71/100\n",
      "36/36 [==============================] - 4s 115ms/step - loss: 0.0019 - mean_absolute_error: 0.0328\n",
      "Epoch 72/100\n",
      "36/36 [==============================] - 4s 114ms/step - loss: 0.0018 - mean_absolute_error: 0.0326\n",
      "Epoch 73/100\n",
      "36/36 [==============================] - 5s 137ms/step - loss: 0.0017 - mean_absolute_error: 0.0311\n",
      "Epoch 74/100\n",
      "36/36 [==============================] - 4s 124ms/step - loss: 0.0018 - mean_absolute_error: 0.0320\n",
      "Epoch 75/100\n",
      "36/36 [==============================] - 4s 124ms/step - loss: 0.0016 - mean_absolute_error: 0.0309\n",
      "Epoch 76/100\n",
      "36/36 [==============================] - 4s 115ms/step - loss: 0.0017 - mean_absolute_error: 0.0310\n",
      "Epoch 77/100\n",
      "36/36 [==============================] - 4s 119ms/step - loss: 0.0018 - mean_absolute_error: 0.0315\n",
      "Epoch 78/100\n",
      "36/36 [==============================] - 4s 115ms/step - loss: 0.0016 - mean_absolute_error: 0.0305\n",
      "Epoch 79/100\n",
      "36/36 [==============================] - 4s 115ms/step - loss: 0.0018 - mean_absolute_error: 0.0322\n",
      "Epoch 80/100\n",
      "36/36 [==============================] - 4s 115ms/step - loss: 0.0017 - mean_absolute_error: 0.0311\n",
      "Epoch 81/100\n",
      "36/36 [==============================] - 4s 114ms/step - loss: 0.0015 - mean_absolute_error: 0.0294\n",
      "Epoch 82/100\n",
      "36/36 [==============================] - 4s 118ms/step - loss: 0.0016 - mean_absolute_error: 0.0299\n",
      "Epoch 83/100\n",
      "36/36 [==============================] - 4s 117ms/step - loss: 0.0016 - mean_absolute_error: 0.0304\n",
      "Epoch 84/100\n",
      "36/36 [==============================] - 4s 115ms/step - loss: 0.0017 - mean_absolute_error: 0.0305\n",
      "Epoch 85/100\n",
      "36/36 [==============================] - 4s 115ms/step - loss: 0.0018 - mean_absolute_error: 0.0318\n",
      "Epoch 86/100\n",
      "36/36 [==============================] - 4s 114ms/step - loss: 0.0017 - mean_absolute_error: 0.0308\n",
      "Epoch 87/100\n",
      "36/36 [==============================] - 4s 115ms/step - loss: 0.0016 - mean_absolute_error: 0.0297\n",
      "Epoch 88/100\n",
      "36/36 [==============================] - 4s 115ms/step - loss: 0.0016 - mean_absolute_error: 0.0296\n",
      "Epoch 89/100\n",
      "36/36 [==============================] - 4s 115ms/step - loss: 0.0016 - mean_absolute_error: 0.0301\n",
      "Epoch 90/100\n",
      "36/36 [==============================] - 4s 116ms/step - loss: 0.0017 - mean_absolute_error: 0.0310\n",
      "Epoch 91/100\n",
      "36/36 [==============================] - 4s 115ms/step - loss: 0.0016 - mean_absolute_error: 0.0306\n",
      "Epoch 92/100\n",
      "36/36 [==============================] - 4s 114ms/step - loss: 0.0016 - mean_absolute_error: 0.0300\n",
      "Epoch 93/100\n",
      "36/36 [==============================] - 4s 118ms/step - loss: 0.0016 - mean_absolute_error: 0.0298\n",
      "Epoch 94/100\n",
      "36/36 [==============================] - 4s 114ms/step - loss: 0.0015 - mean_absolute_error: 0.0295\n",
      "Epoch 95/100\n",
      "36/36 [==============================] - 4s 115ms/step - loss: 0.0015 - mean_absolute_error: 0.0294\n",
      "Epoch 96/100\n",
      "36/36 [==============================] - 4s 116ms/step - loss: 0.0016 - mean_absolute_error: 0.0304\n",
      "Epoch 97/100\n",
      "36/36 [==============================] - 4s 116ms/step - loss: 0.0016 - mean_absolute_error: 0.0290\n",
      "Epoch 98/100\n",
      "36/36 [==============================] - 4s 115ms/step - loss: 0.0015 - mean_absolute_error: 0.0291\n",
      "Epoch 99/100\n",
      "36/36 [==============================] - 4s 114ms/step - loss: 0.0016 - mean_absolute_error: 0.0300\n",
      "Epoch 100/100\n",
      "36/36 [==============================] - 4s 114ms/step - loss: 0.0016 - mean_absolute_error: 0.0295\n"
     ]
    },
    {
     "data": {
      "text/plain": [
       "<keras.callbacks.History at 0x7fa7850a8fa0>"
      ]
     },
     "execution_count": 40,
     "metadata": {},
     "output_type": "execute_result"
    }
   ],
   "source": [
    "regressor = Sequential()\n",
    "regressor.add(LSTM(units = 100,return_sequences = True,input_shape=(previsores.shape[1],1)))\n",
    "regressor.add(Dropout(0.3))\n",
    "\n",
    "regressor.add(LSTM(units = 50,return_sequences = True))\n",
    "regressor.add(Dropout(0.3))\n",
    "\n",
    "regressor.add(LSTM(units = 50,return_sequences = True))\n",
    "regressor.add(Dropout(0.3))\n",
    "\n",
    "regressor.add(LSTM(units = 50))\n",
    "regressor.add(Dropout(0.3))\n",
    "\n",
    "regressor.add(Dense(units = 1,activation = 'linear'))\n",
    "\n",
    "regressor.compile(optimizer = 'rmsprop', loss = 'mean_squared_error', metrics = ['mean_absolute_error'])\n",
    "\n",
    "regressor.fit(previsores,preco_real,epochs = 100, batch_size = 32)"
   ]
  },
  {
   "cell_type": "code",
   "execution_count": 9,
   "id": "2286a8e3",
   "metadata": {},
   "outputs": [
    {
     "name": "stderr",
     "output_type": "stream",
     "text": [
      "<ipython-input-9-b1dbe34d0213>:4: FutureWarning: The behavior of `series[i:j]` with an integer-dtype index is deprecated. In a future version, this will be treated as *label-based* indexing, consistent with e.g. `series[i]` lookups. To retain the old behavior, use `series.iloc[i:j]`. To get the future behavior, use `series.loc[i:j]`.\n",
      "  entradas = base_completa[len(base_completa) - len(base_teste) - 90:].values\n"
     ]
    }
   ],
   "source": [
    "base_teste = pd.read_csv('petr4_teste.csv')\n",
    "preco_real_teste = base_teste.iloc[:, 1:2].values\n",
    "base_completa = pd.concat((base['Open'], base_teste['Open']), axis = 0)\n",
    "entradas = base_completa[len(base_completa) - len(base_teste) - 90:].values\n",
    "entradas = entradas.reshape(-1, 1)\n",
    "entradas = normalizador.transform(entradas)\n",
    "\n",
    "x_teste = []\n",
    "for i in range(90, 112):\n",
    "    x_teste.append(entradas[i-90:i, 0])\n",
    "x_teste = np.array(x_teste)\n",
    "x_teste = np.reshape(x_teste, (x_teste.shape[0], x_teste.shape[1], 1))\n",
    "#previsoes = regressor.predict(x_teste)\n",
    "#previsoes = normalizador.inverse_transform(previsoes)\n",
    "\n",
    "#previsoes.mean()\n",
    "#preco_real_teste.mean()"
   ]
  },
  {
   "cell_type": "code",
   "execution_count": 52,
   "id": "1919cba2",
   "metadata": {},
   "outputs": [
    {
     "data": {
      "image/png": "[encoded data removed]",
      "text/plain": [
       "<Figure size 432x288 with 1 Axes>"
      ]
     },
     "metadata": {
      "needs_background": "light"
     },
     "output_type": "display_data"
    }
   ],
   "source": [
    "plt.plot(preco_real_teste,color = 'red',label = \"Preço real\")\n",
    "plt.plot(previsoes,color ='blue',label = 'Previsões')\n",
    "plt.title('Previsão preço das ações')\n",
    "plt.xlabel('Tempo')\n",
    "plt.ylabel('Valor Yahoo')\n",
    "plt.legend()\n",
    "plt.show()"
   ]
  },
  {
   "cell_type": "code",
   "execution_count": null,
   "id": "a6b6f01c",
   "metadata": {},
   "outputs": [],
   "source": []
  }
 ],
 "metadata": {
  "kernelspec": {
   "display_name": "Python 3",
   "language": "python",
   "name": "python3"
  },
  "language_info": {
   "codemirror_mode": {
    "name": "ipython",
    "version": 3
   },
   "file_extension": ".py",
   "mimetype": "text/x-python",
   "name": "python",
   "nbconvert_exporter": "python",
   "pygments_lexer": "ipython3",
   "version": "3.8.5"
  }
 },
 "nbformat": 4,
 "nbformat_minor": 5
}
