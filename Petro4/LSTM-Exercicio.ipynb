{
 "cells": [
  {
   "cell_type": "code",
   "execution_count": 10,
   "id": "63ae056b",
   "metadata": {},
   "outputs": [],
   "source": [
    "from keras.models import Sequential\n",
    "from keras.layers import Dense, Dropout,LSTM\n",
    "import numpy as np\n",
    "import pandas as pd\n",
    "from sklearn.preprocessing import MinMaxScaler\n",
    "import matplotlib.pyplot as plt\n",
    "import time"
   ]
  },
  {
   "cell_type": "code",
   "execution_count": 2,
   "id": "0cff1941",
   "metadata": {},
   "outputs": [],
   "source": [
    "base = pd.read_csv('petr4_treinamento_ex.csv')\n",
    "base = base.dropna()"
   ]
  },
  {
   "cell_type": "code",
   "execution_count": 3,
   "id": "f33966a8",
   "metadata": {},
   "outputs": [],
   "source": [
    "base_treinamento =  base.iloc[:,1:2].values"
   ]
  },
  {
   "cell_type": "code",
   "execution_count": 4,
   "id": "e9732599",
   "metadata": {},
   "outputs": [
    {
     "data": {
      "text/plain": [
       "(1342, 1)"
      ]
     },
     "execution_count": 4,
     "metadata": {},
     "output_type": "execute_result"
    }
   ],
   "source": [
    "normalizador = MinMaxScaler(feature_range=(0,1))\n",
    "base_treinamento = normalizador.fit_transform(base_treinamento)\n",
    "base_treinamento.shape"
   ]
  },
  {
   "cell_type": "code",
   "execution_count": 5,
   "id": "3a2c4da2",
   "metadata": {},
   "outputs": [
    {
     "data": {
      "text/plain": [
       "array([[0.68207343],\n",
       "       [0.67429801],\n",
       "       [0.69676026],\n",
       "       ...,\n",
       "       [0.86522678],\n",
       "       [0.68466518],\n",
       "       [0.71058315]])"
      ]
     },
     "execution_count": 5,
     "metadata": {},
     "output_type": "execute_result"
    }
   ],
   "source": [
    "base_treinamento"
   ]
  },
  {
   "cell_type": "code",
   "execution_count": 6,
   "id": "5d9e2cf1",
   "metadata": {},
   "outputs": [],
   "source": [
    "previsores = []\n",
    "preco_real = []\n",
    "\n",
    "for i in range(90,base_treinamento.shape[0]):\n",
    "    previsores.append(base_treinamento[i-90:i,0])\n",
    "    preco_real.append(base_treinamento[i,0])\n",
    "previsores,preco_real = np.array(previsores), np.array(preco_real)"
   ]
  },
  {
   "cell_type": "code",
   "execution_count": 7,
   "id": "bfa2ccd7",
   "metadata": {},
   "outputs": [
    {
     "data": {
      "text/plain": [
       "(1252, 90, 1)"
      ]
     },
     "execution_count": 7,
     "metadata": {},
     "output_type": "execute_result"
    }
   ],
   "source": [
    "previsores=np.reshape(previsores,(previsores.shape[0],previsores.shape[1],1))\n",
    "previsores.shape"
   ]
  },
  {
   "cell_type": "code",
   "execution_count": 11,
   "id": "504fb692",
   "metadata": {},
   "outputs": [
    {
     "name": "stdout",
     "output_type": "stream",
     "text": [
      "Epoch 1/100\n",
      "40/40 [==============================] - 15s 191ms/step - loss: 0.0266 - mean_absolute_error: 0.1192\n",
      "Epoch 2/100\n",
      "40/40 [==============================] - 7s 164ms/step - loss: 0.0139 - mean_absolute_error: 0.0908\n",
      "Epoch 3/100\n",
      "40/40 [==============================] - 7s 166ms/step - loss: 0.0102 - mean_absolute_error: 0.0762\n",
      "Epoch 4/100\n",
      "40/40 [==============================] - 6s 161ms/step - loss: 0.0093 - mean_absolute_error: 0.0730\n",
      "Epoch 5/100\n",
      "40/40 [==============================] - 7s 163ms/step - loss: 0.0085 - mean_absolute_error: 0.0709\n",
      "Epoch 6/100\n",
      "40/40 [==============================] - 7s 166ms/step - loss: 0.0073 - mean_absolute_error: 0.0644\n",
      "Epoch 7/100\n",
      "40/40 [==============================] - 7s 164ms/step - loss: 0.0070 - mean_absolute_error: 0.0631\n",
      "Epoch 8/100\n",
      "40/40 [==============================] - 7s 164ms/step - loss: 0.0064 - mean_absolute_error: 0.0610\n",
      "Epoch 9/100\n",
      "40/40 [==============================] - 7s 165ms/step - loss: 0.0061 - mean_absolute_error: 0.0583\n",
      "Epoch 10/100\n",
      "40/40 [==============================] - 7s 172ms/step - loss: 0.0057 - mean_absolute_error: 0.0571\n",
      "Epoch 11/100\n",
      "40/40 [==============================] - 7s 166ms/step - loss: 0.0055 - mean_absolute_error: 0.0556\n",
      "Epoch 12/100\n",
      "40/40 [==============================] - 7s 168ms/step - loss: 0.0056 - mean_absolute_error: 0.0567\n",
      "Epoch 13/100\n",
      "40/40 [==============================] - 7s 166ms/step - loss: 0.0046 - mean_absolute_error: 0.0511\n",
      "Epoch 14/100\n",
      "40/40 [==============================] - 7s 174ms/step - loss: 0.0045 - mean_absolute_error: 0.0508\n",
      "Epoch 15/100\n",
      "40/40 [==============================] - 7s 170ms/step - loss: 0.0049 - mean_absolute_error: 0.0525\n",
      "Epoch 16/100\n",
      "40/40 [==============================] - 7s 166ms/step - loss: 0.0038 - mean_absolute_error: 0.0476\n",
      "Epoch 17/100\n",
      "40/40 [==============================] - 7s 168ms/step - loss: 0.0041 - mean_absolute_error: 0.0477\n",
      "Epoch 18/100\n",
      "40/40 [==============================] - 7s 165ms/step - loss: 0.0036 - mean_absolute_error: 0.0448\n",
      "Epoch 19/100\n",
      "40/40 [==============================] - 7s 167ms/step - loss: 0.0040 - mean_absolute_error: 0.0476\n",
      "Epoch 20/100\n",
      "40/40 [==============================] - 7s 168ms/step - loss: 0.0034 - mean_absolute_error: 0.0444\n",
      "Epoch 21/100\n",
      "40/40 [==============================] - 7s 167ms/step - loss: 0.0036 - mean_absolute_error: 0.0456\n",
      "Epoch 22/100\n",
      "40/40 [==============================] - 7s 169ms/step - loss: 0.0034 - mean_absolute_error: 0.0440\n",
      "Epoch 23/100\n",
      "40/40 [==============================] - 7s 169ms/step - loss: 0.0034 - mean_absolute_error: 0.0446\n",
      "Epoch 24/100\n",
      "40/40 [==============================] - 7s 172ms/step - loss: 0.0034 - mean_absolute_error: 0.0436\n",
      "Epoch 25/100\n",
      "40/40 [==============================] - 7s 167ms/step - loss: 0.0026 - mean_absolute_error: 0.0397\n",
      "Epoch 26/100\n",
      "40/40 [==============================] - 7s 166ms/step - loss: 0.0030 - mean_absolute_error: 0.0418\n",
      "Epoch 27/100\n",
      "40/40 [==============================] - 7s 168ms/step - loss: 0.0029 - mean_absolute_error: 0.0415\n",
      "Epoch 28/100\n",
      "40/40 [==============================] - 7s 165ms/step - loss: 0.0029 - mean_absolute_error: 0.0411\n",
      "Epoch 29/100\n",
      "40/40 [==============================] - 7s 169ms/step - loss: 0.0031 - mean_absolute_error: 0.0412\n",
      "Epoch 30/100\n",
      "40/40 [==============================] - 7s 176ms/step - loss: 0.0027 - mean_absolute_error: 0.0393\n",
      "Epoch 31/100\n",
      "40/40 [==============================] - 7s 178ms/step - loss: 0.0028 - mean_absolute_error: 0.0396\n",
      "Epoch 32/100\n",
      "40/40 [==============================] - 7s 181ms/step - loss: 0.0025 - mean_absolute_error: 0.0380\n",
      "Epoch 33/100\n",
      "40/40 [==============================] - 7s 168ms/step - loss: 0.0026 - mean_absolute_error: 0.0382\n",
      "Epoch 34/100\n",
      "40/40 [==============================] - 7s 168ms/step - loss: 0.0024 - mean_absolute_error: 0.0371\n",
      "Epoch 35/100\n",
      "40/40 [==============================] - 7s 168ms/step - loss: 0.0025 - mean_absolute_error: 0.0380\n",
      "Epoch 36/100\n",
      "40/40 [==============================] - 7s 169ms/step - loss: 0.0025 - mean_absolute_error: 0.0373\n",
      "Epoch 37/100\n",
      "40/40 [==============================] - 7s 166ms/step - loss: 0.0026 - mean_absolute_error: 0.0383\n",
      "Epoch 38/100\n",
      "40/40 [==============================] - 7s 168ms/step - loss: 0.0023 - mean_absolute_error: 0.0364\n",
      "Epoch 39/100\n",
      "40/40 [==============================] - 7s 169ms/step - loss: 0.0022 - mean_absolute_error: 0.0357\n",
      "Epoch 40/100\n",
      "40/40 [==============================] - 8s 189ms/step - loss: 0.0022 - mean_absolute_error: 0.0357\n",
      "Epoch 41/100\n",
      "40/40 [==============================] - 7s 181ms/step - loss: 0.0024 - mean_absolute_error: 0.0358\n",
      "Epoch 42/100\n",
      "40/40 [==============================] - 7s 170ms/step - loss: 0.0022 - mean_absolute_error: 0.0349\n",
      "Epoch 43/100\n",
      "40/40 [==============================] - 7s 172ms/step - loss: 0.0021 - mean_absolute_error: 0.0346\n",
      "Epoch 44/100\n",
      "40/40 [==============================] - 7s 170ms/step - loss: 0.0022 - mean_absolute_error: 0.0356\n",
      "Epoch 45/100\n",
      "40/40 [==============================] - 7s 173ms/step - loss: 0.0021 - mean_absolute_error: 0.0350\n",
      "Epoch 46/100\n",
      "40/40 [==============================] - 7s 171ms/step - loss: 0.0020 - mean_absolute_error: 0.0339\n",
      "Epoch 47/100\n",
      "40/40 [==============================] - 7s 173ms/step - loss: 0.0019 - mean_absolute_error: 0.0340\n",
      "Epoch 48/100\n",
      "40/40 [==============================] - 7s 178ms/step - loss: 0.0022 - mean_absolute_error: 0.0353\n",
      "Epoch 49/100\n",
      "40/40 [==============================] - 7s 171ms/step - loss: 0.0018 - mean_absolute_error: 0.0325\n",
      "Epoch 50/100\n",
      "40/40 [==============================] - 7s 170ms/step - loss: 0.0019 - mean_absolute_error: 0.0332\n",
      "Epoch 51/100\n",
      "40/40 [==============================] - 7s 169ms/step - loss: 0.0020 - mean_absolute_error: 0.0341\n",
      "Epoch 52/100\n",
      "40/40 [==============================] - 7s 174ms/step - loss: 0.0018 - mean_absolute_error: 0.0317\n",
      "Epoch 53/100\n",
      "40/40 [==============================] - 7s 168ms/step - loss: 0.0020 - mean_absolute_error: 0.0332\n",
      "Epoch 54/100\n",
      "40/40 [==============================] - 9s 222ms/step - loss: 0.0020 - mean_absolute_error: 0.0334\n",
      "Epoch 55/100\n",
      "40/40 [==============================] - 7s 185ms/step - loss: 0.0020 - mean_absolute_error: 0.0334\n",
      "Epoch 56/100\n",
      "40/40 [==============================] - 7s 172ms/step - loss: 0.0018 - mean_absolute_error: 0.0318\n",
      "Epoch 57/100\n",
      "40/40 [==============================] - 7s 171ms/step - loss: 0.0020 - mean_absolute_error: 0.0337\n",
      "Epoch 58/100\n",
      "40/40 [==============================] - 7s 169ms/step - loss: 0.0017 - mean_absolute_error: 0.0311\n",
      "Epoch 59/100\n",
      "40/40 [==============================] - 7s 177ms/step - loss: 0.0018 - mean_absolute_error: 0.0321\n",
      "Epoch 60/100\n",
      "40/40 [==============================] - 7s 169ms/step - loss: 0.0016 - mean_absolute_error: 0.0302\n",
      "Epoch 61/100\n",
      "40/40 [==============================] - 7s 171ms/step - loss: 0.0017 - mean_absolute_error: 0.0307\n",
      "Epoch 62/100\n",
      "40/40 [==============================] - 7s 169ms/step - loss: 0.0017 - mean_absolute_error: 0.0310\n",
      "Epoch 63/100\n",
      "40/40 [==============================] - 7s 175ms/step - loss: 0.0017 - mean_absolute_error: 0.0312\n",
      "Epoch 64/100\n",
      "40/40 [==============================] - 7s 176ms/step - loss: 0.0016 - mean_absolute_error: 0.0298\n",
      "Epoch 65/100\n",
      "40/40 [==============================] - 7s 178ms/step - loss: 0.0017 - mean_absolute_error: 0.0309\n",
      "Epoch 66/100\n",
      "40/40 [==============================] - 7s 176ms/step - loss: 0.0015 - mean_absolute_error: 0.0287\n",
      "Epoch 67/100\n",
      "40/40 [==============================] - 7s 170ms/step - loss: 0.0015 - mean_absolute_error: 0.0285\n",
      "Epoch 68/100\n",
      "40/40 [==============================] - 7s 169ms/step - loss: 0.0017 - mean_absolute_error: 0.0307\n",
      "Epoch 69/100\n",
      "40/40 [==============================] - 7s 170ms/step - loss: 0.0017 - mean_absolute_error: 0.0305\n",
      "Epoch 70/100\n",
      "40/40 [==============================] - 7s 169ms/step - loss: 0.0016 - mean_absolute_error: 0.0299\n",
      "Epoch 71/100\n",
      "40/40 [==============================] - 7s 168ms/step - loss: 0.0016 - mean_absolute_error: 0.0296\n",
      "Epoch 72/100\n",
      "40/40 [==============================] - 7s 169ms/step - loss: 0.0017 - mean_absolute_error: 0.0305\n",
      "Epoch 73/100\n"
     ]
    },
    {
     "name": "stdout",
     "output_type": "stream",
     "text": [
      "40/40 [==============================] - 7s 168ms/step - loss: 0.0015 - mean_absolute_error: 0.0288\n",
      "Epoch 74/100\n",
      "40/40 [==============================] - 7s 170ms/step - loss: 0.0016 - mean_absolute_error: 0.0292\n",
      "Epoch 75/100\n",
      "40/40 [==============================] - 7s 170ms/step - loss: 0.0016 - mean_absolute_error: 0.0292\n",
      "Epoch 76/100\n",
      "40/40 [==============================] - 7s 172ms/step - loss: 0.0015 - mean_absolute_error: 0.0295\n",
      "Epoch 77/100\n",
      "40/40 [==============================] - 7s 175ms/step - loss: 0.0016 - mean_absolute_error: 0.0289\n",
      "Epoch 78/100\n",
      "40/40 [==============================] - 7s 174ms/step - loss: 0.0017 - mean_absolute_error: 0.0306\n",
      "Epoch 79/100\n",
      "40/40 [==============================] - 7s 169ms/step - loss: 0.0014 - mean_absolute_error: 0.0278\n",
      "Epoch 80/100\n",
      "40/40 [==============================] - 7s 167ms/step - loss: 0.0016 - mean_absolute_error: 0.0294\n",
      "Epoch 81/100\n",
      "40/40 [==============================] - 7s 168ms/step - loss: 0.0014 - mean_absolute_error: 0.0278\n",
      "Epoch 82/100\n",
      "40/40 [==============================] - 7s 171ms/step - loss: 0.0016 - mean_absolute_error: 0.0285\n",
      "Epoch 83/100\n",
      "40/40 [==============================] - 7s 174ms/step - loss: 0.0014 - mean_absolute_error: 0.0275\n",
      "Epoch 84/100\n",
      "40/40 [==============================] - 7s 173ms/step - loss: 0.0014 - mean_absolute_error: 0.0280\n",
      "Epoch 85/100\n",
      "40/40 [==============================] - 7s 171ms/step - loss: 0.0015 - mean_absolute_error: 0.0278\n",
      "Epoch 86/100\n",
      "40/40 [==============================] - 7s 170ms/step - loss: 0.0014 - mean_absolute_error: 0.0273\n",
      "Epoch 87/100\n",
      "40/40 [==============================] - 7s 171ms/step - loss: 0.0016 - mean_absolute_error: 0.0298\n",
      "Epoch 88/100\n",
      "40/40 [==============================] - 7s 171ms/step - loss: 0.0015 - mean_absolute_error: 0.0287\n",
      "Epoch 89/100\n",
      "40/40 [==============================] - 7s 171ms/step - loss: 0.0014 - mean_absolute_error: 0.0278\n",
      "Epoch 90/100\n",
      "40/40 [==============================] - 7s 170ms/step - loss: 0.0015 - mean_absolute_error: 0.0280\n",
      "Epoch 91/100\n",
      "40/40 [==============================] - 7s 169ms/step - loss: 0.0014 - mean_absolute_error: 0.0278\n",
      "Epoch 92/100\n",
      "40/40 [==============================] - 7s 172ms/step - loss: 0.0015 - mean_absolute_error: 0.0282\n",
      "Epoch 93/100\n",
      "40/40 [==============================] - 7s 175ms/step - loss: 0.0016 - mean_absolute_error: 0.0282\n",
      "Epoch 94/100\n",
      "40/40 [==============================] - 7s 173ms/step - loss: 0.0014 - mean_absolute_error: 0.0278\n",
      "Epoch 95/100\n",
      "40/40 [==============================] - 7s 170ms/step - loss: 0.0013 - mean_absolute_error: 0.0265\n",
      "Epoch 96/100\n",
      "40/40 [==============================] - 7s 170ms/step - loss: 0.0014 - mean_absolute_error: 0.0281\n",
      "Epoch 97/100\n",
      "40/40 [==============================] - 7s 172ms/step - loss: 0.0014 - mean_absolute_error: 0.0278\n",
      "Epoch 98/100\n",
      "40/40 [==============================] - 7s 169ms/step - loss: 0.0012 - mean_absolute_error: 0.0260\n",
      "Epoch 99/100\n",
      "40/40 [==============================] - 7s 177ms/step - loss: 0.0014 - mean_absolute_error: 0.0272\n",
      "Epoch 100/100\n",
      "40/40 [==============================] - 7s 177ms/step - loss: 0.0014 - mean_absolute_error: 0.0271\n",
      "Tempo de treinamento 694.3409624099731\n"
     ]
    }
   ],
   "source": [
    "regressor = Sequential()\n",
    "regressor.add(LSTM(units = 100,return_sequences = True,input_shape=(previsores.shape[1],1)))\n",
    "regressor.add(Dropout(0.3))\n",
    "\n",
    "regressor.add(LSTM(units = 50,return_sequences = True))\n",
    "regressor.add(Dropout(0.3))\n",
    "\n",
    "regressor.add(LSTM(units = 50,return_sequences = True))\n",
    "regressor.add(Dropout(0.3))\n",
    "\n",
    "regressor.add(LSTM(units = 50))\n",
    "regressor.add(Dropout(0.3))\n",
    "\n",
    "regressor.add(Dense(units = 1,activation = 'linear'))\n",
    "\n",
    "regressor.compile(optimizer = 'rmsprop', loss = 'mean_squared_error', metrics = ['mean_absolute_error'])\n",
    "\n",
    "\n",
    "inicio = time.time()\n",
    "regressor.fit(previsores,preco_real,epochs = 100, batch_size = 32)\n",
    "fim = time.time()\n",
    "print(f\"Tempo de treinamento {fim-inicio}\")"
   ]
  },
  {
   "cell_type": "code",
   "execution_count": 24,
   "id": "2286a8e3",
   "metadata": {},
   "outputs": [
    {
     "name": "stderr",
     "output_type": "stream",
     "text": [
      "<ipython-input-24-b3f2937b125f>:4: FutureWarning: The behavior of `series[i:j]` with an integer-dtype index is deprecated. In a future version, this will be treated as *label-based* indexing, consistent with e.g. `series[i]` lookups. To retain the old behavior, use `series.iloc[i:j]`. To get the future behavior, use `series.loc[i:j]`.\n",
      "  entradas = base_completa[len(base_completa) - len(base_teste) - 90:].values\n"
     ]
    },
    {
     "name": "stdout",
     "output_type": "stream",
     "text": [
      "1/1 [==============================] - 1s 1s/step\n"
     ]
    },
    {
     "data": {
      "text/plain": [
       "16.379473684210524"
      ]
     },
     "execution_count": 24,
     "metadata": {},
     "output_type": "execute_result"
    }
   ],
   "source": [
    "base_teste = pd.read_csv('petr4_teste_ex.csv')\n",
    "preco_real_teste = base_teste.iloc[:, 1:2].values\n",
    "base_completa = pd.concat((base['Open'], base_teste['Open']), axis = 0)\n",
    "entradas = base_completa[len(base_completa) - len(base_teste) - 90:].values\n",
    "entradas = entradas.reshape(-1, 1)\n",
    "entradas = normalizador.transform(entradas)\n",
    "\n",
    "x_teste = []\n",
    "for i in range(90, len(entradas)):\n",
    "    x_teste.append(entradas[i-90:i, 0])\n",
    "x_teste = np.array(x_teste)\n",
    "x_teste = np.reshape(x_teste, (x_teste.shape[0], x_teste.shape[1], 1))\n",
    "previsoes = regressor.predict(x_teste)\n",
    "previsoes = normalizador.inverse_transform(previsoes)\n",
    "\n",
    "previsoes.mean()\n",
    "preco_real_teste.mean()"
   ]
  },
  {
   "cell_type": "code",
   "execution_count": 25,
   "id": "1919cba2",
   "metadata": {},
   "outputs": [
    {
     "data": {
      "image/png": "[encoded data removed]",
      "text/plain": [
       "<Figure size 432x288 with 1 Axes>"
      ]
     },
     "metadata": {
      "needs_background": "light"
     },
     "output_type": "display_data"
    }
   ],
   "source": [
    "plt.plot(preco_real_teste,color = 'red',label = \"Preço real\")\n",
    "plt.plot(previsoes,color ='blue',label = 'Previsões')\n",
    "plt.title('Previsão preço das ações')\n",
    "plt.xlabel('Tempo')\n",
    "plt.ylabel('Valor Yahoo')\n",
    "plt.legend()\n",
    "plt.show()"
   ]
  },
  {
   "cell_type": "code",
   "execution_count": null,
   "id": "a6b6f01c",
   "metadata": {},
   "outputs": [],
   "source": []
  }
 ],
 "metadata": {
  "kernelspec": {
   "display_name": "Python 3",
   "language": "python",
   "name": "python3"
  },
  "language_info": {
   "codemirror_mode": {
    "name": "ipython",
    "version": 3
   },
   "file_extension": ".py",
   "mimetype": "text/x-python",
   "name": "python",
   "nbconvert_exporter": "python",
   "pygments_lexer": "ipython3",
   "version": "3.8.5"
  }
 },
 "nbformat": 4,
 "nbformat_minor": 5
}
